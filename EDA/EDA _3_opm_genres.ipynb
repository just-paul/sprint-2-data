{
 "cells": [
  {
   "cell_type": "code",
   "execution_count": 128,
   "metadata": {},
   "outputs": [],
   "source": [
    "import pandas as pd\n",
    "import numpy as np \n",
    "import matplotlib.pyplot as plt\n",
    "import seaborn as sns"
   ]
  },
  {
   "cell_type": "code",
   "execution_count": 129,
   "metadata": {},
   "outputs": [],
   "source": [
    "df = pd.read_csv('master_df.csv')\n",
    "master_df = df[(df['category'] == 'opm')].reset_index()"
   ]
  },
  {
   "cell_type": "code",
   "execution_count": 130,
   "metadata": {},
   "outputs": [],
   "source": [
    "master_df['genres'] = master_df['genres'].apply(lambda x: x.replace(\"'\", ''))\n",
    "master_df['genres'] = master_df['genres'].apply(lambda x: x.replace(\"[\", ''))\n",
    "master_df['genres'] = master_df['genres'].apply(lambda x: x.replace(\"]\", ''))\n",
    "master_df['genres'] = master_df['genres'].apply(lambda x: x.replace(\" \", ''))\n",
    "master_df['genres'] = master_df['genres'].apply(lambda x: x.split(','))"
   ]
  },
  {
   "cell_type": "code",
   "execution_count": 131,
   "metadata": {},
   "outputs": [
    {
     "data": {
      "text/plain": [
       "0                                         [opm, pinoyrock]\n",
       "1                                         [opm, pinoyrock]\n",
       "2        [opm, pinoyindie, pinoyreggae, pinoyrock, popr...\n",
       "3                                                    [opm]\n",
       "4        [opm, pinoyindie, pinoyreggae, pinoyrock, popr...\n",
       "                               ...                        \n",
       "92737                                                [opm]\n",
       "92738                       [opm, pinoyhiphop, tagalograp]\n",
       "92739                                  [opm, pinoypoppunk]\n",
       "92740                       [opm, pinoyhiphop, tagalograp]\n",
       "92741                                                [opm]\n",
       "Name: genres, Length: 92742, dtype: object"
      ]
     },
     "execution_count": 131,
     "metadata": {},
     "output_type": "execute_result"
    }
   ],
   "source": [
    "master_df['genres']"
   ]
  },
  {
   "cell_type": "code",
   "execution_count": 132,
   "metadata": {},
   "outputs": [
    {
     "data": {
      "text/plain": [
       "[[0, 'opm'],\n",
       " [0, 'pinoyrock'],\n",
       " [1, 'opm'],\n",
       " [1, 'pinoyrock'],\n",
       " [2, 'opm'],\n",
       " [2, 'pinoyindie'],\n",
       " [2, 'pinoyreggae'],\n",
       " [2, 'pinoyrock'],\n",
       " [2, 'poprock'],\n",
       " [3, 'opm']]"
      ]
     },
     "execution_count": 132,
     "metadata": {},
     "output_type": "execute_result"
    }
   ],
   "source": [
    "index = 0\n",
    "lst = []\n",
    "for item in master_df['genres']:\n",
    "    lst.extend(map(lambda x: [index, x], item))\n",
    "    index += 1\n",
    "lst[:10]"
   ]
  },
  {
   "cell_type": "code",
   "execution_count": 133,
   "metadata": {},
   "outputs": [
    {
     "data": {
      "text/html": [
       "<div>\n",
       "<style scoped>\n",
       "    .dataframe tbody tr th:only-of-type {\n",
       "        vertical-align: middle;\n",
       "    }\n",
       "\n",
       "    .dataframe tbody tr th {\n",
       "        vertical-align: top;\n",
       "    }\n",
       "\n",
       "    .dataframe thead th {\n",
       "        text-align: right;\n",
       "    }\n",
       "</style>\n",
       "<table border=\"1\" class=\"dataframe\">\n",
       "  <thead>\n",
       "    <tr style=\"text-align: right;\">\n",
       "      <th></th>\n",
       "      <th>index</th>\n",
       "      <th>genres</th>\n",
       "    </tr>\n",
       "  </thead>\n",
       "  <tbody>\n",
       "    <tr>\n",
       "      <th>0</th>\n",
       "      <td>0</td>\n",
       "      <td>opm</td>\n",
       "    </tr>\n",
       "    <tr>\n",
       "      <th>1</th>\n",
       "      <td>0</td>\n",
       "      <td>pinoyrock</td>\n",
       "    </tr>\n",
       "    <tr>\n",
       "      <th>2</th>\n",
       "      <td>1</td>\n",
       "      <td>opm</td>\n",
       "    </tr>\n",
       "    <tr>\n",
       "      <th>3</th>\n",
       "      <td>1</td>\n",
       "      <td>pinoyrock</td>\n",
       "    </tr>\n",
       "    <tr>\n",
       "      <th>4</th>\n",
       "      <td>2</td>\n",
       "      <td>opm</td>\n",
       "    </tr>\n",
       "    <tr>\n",
       "      <th>...</th>\n",
       "      <td>...</td>\n",
       "      <td>...</td>\n",
       "    </tr>\n",
       "    <tr>\n",
       "      <th>190418</th>\n",
       "      <td>92739</td>\n",
       "      <td>pinoypoppunk</td>\n",
       "    </tr>\n",
       "    <tr>\n",
       "      <th>190419</th>\n",
       "      <td>92740</td>\n",
       "      <td>opm</td>\n",
       "    </tr>\n",
       "    <tr>\n",
       "      <th>190420</th>\n",
       "      <td>92740</td>\n",
       "      <td>pinoyhiphop</td>\n",
       "    </tr>\n",
       "    <tr>\n",
       "      <th>190421</th>\n",
       "      <td>92740</td>\n",
       "      <td>tagalograp</td>\n",
       "    </tr>\n",
       "    <tr>\n",
       "      <th>190422</th>\n",
       "      <td>92741</td>\n",
       "      <td>opm</td>\n",
       "    </tr>\n",
       "  </tbody>\n",
       "</table>\n",
       "<p>190423 rows × 2 columns</p>\n",
       "</div>"
      ],
      "text/plain": [
       "        index        genres\n",
       "0           0           opm\n",
       "1           0     pinoyrock\n",
       "2           1           opm\n",
       "3           1     pinoyrock\n",
       "4           2           opm\n",
       "...       ...           ...\n",
       "190418  92739  pinoypoppunk\n",
       "190419  92740           opm\n",
       "190420  92740   pinoyhiphop\n",
       "190421  92740    tagalograp\n",
       "190422  92741           opm\n",
       "\n",
       "[190423 rows x 2 columns]"
      ]
     },
     "execution_count": 133,
     "metadata": {},
     "output_type": "execute_result"
    }
   ],
   "source": [
    "genres = pd.DataFrame(lst, columns=['index', 'genres'])\n",
    "genres"
   ]
  },
  {
   "cell_type": "code",
   "execution_count": 134,
   "metadata": {},
   "outputs": [
    {
     "data": {
      "text/plain": [
       "190423"
      ]
     },
     "execution_count": 134,
     "metadata": {},
     "output_type": "execute_result"
    }
   ],
   "source": [
    "df_genres = pd.merge(master_df.drop('genres', axis = 1), genres, left_index = True, right_on = 'index')\n",
    "len(df_genres)"
   ]
  },
  {
   "cell_type": "code",
   "execution_count": 135,
   "metadata": {},
   "outputs": [
    {
     "data": {
      "text/html": [
       "<div>\n",
       "<style scoped>\n",
       "    .dataframe tbody tr th:only-of-type {\n",
       "        vertical-align: middle;\n",
       "    }\n",
       "\n",
       "    .dataframe tbody tr th {\n",
       "        vertical-align: top;\n",
       "    }\n",
       "\n",
       "    .dataframe thead th {\n",
       "        text-align: right;\n",
       "    }\n",
       "</style>\n",
       "<table border=\"1\" class=\"dataframe\">\n",
       "  <thead>\n",
       "    <tr style=\"text-align: right;\">\n",
       "      <th></th>\n",
       "      <th>streams_2017</th>\n",
       "    </tr>\n",
       "    <tr>\n",
       "      <th>genres</th>\n",
       "      <th></th>\n",
       "    </tr>\n",
       "  </thead>\n",
       "  <tbody>\n",
       "    <tr>\n",
       "      <th>opm</th>\n",
       "      <td>566249541</td>\n",
       "    </tr>\n",
       "    <tr>\n",
       "      <th>pinoyrock</th>\n",
       "      <td>165854477</td>\n",
       "    </tr>\n",
       "    <tr>\n",
       "      <th>pinoyreggae</th>\n",
       "      <td>53150151</td>\n",
       "    </tr>\n",
       "    <tr>\n",
       "      <th>poprock</th>\n",
       "      <td>48896042</td>\n",
       "    </tr>\n",
       "    <tr>\n",
       "      <th>dancepop</th>\n",
       "      <td>38476642</td>\n",
       "    </tr>\n",
       "    <tr>\n",
       "      <th>pinoyindie</th>\n",
       "      <td>26512380</td>\n",
       "    </tr>\n",
       "    <tr>\n",
       "      <th></th>\n",
       "      <td>19249751</td>\n",
       "    </tr>\n",
       "    <tr>\n",
       "      <th>pinoyr&amp;b</th>\n",
       "      <td>12030419</td>\n",
       "    </tr>\n",
       "    <tr>\n",
       "      <th>deepneofolk</th>\n",
       "      <td>8758629</td>\n",
       "    </tr>\n",
       "    <tr>\n",
       "      <th>viralpop</th>\n",
       "      <td>6707381</td>\n",
       "    </tr>\n",
       "    <tr>\n",
       "      <th>pinoyhiphop</th>\n",
       "      <td>6553524</td>\n",
       "    </tr>\n",
       "    <tr>\n",
       "      <th>tagalograp</th>\n",
       "      <td>6553524</td>\n",
       "    </tr>\n",
       "    <tr>\n",
       "      <th>neomellow</th>\n",
       "      <td>6334488</td>\n",
       "    </tr>\n",
       "    <tr>\n",
       "      <th>acousticpop</th>\n",
       "      <td>6334488</td>\n",
       "    </tr>\n",
       "    <tr>\n",
       "      <th>pinoytrap</th>\n",
       "      <td>3617760</td>\n",
       "    </tr>\n",
       "    <tr>\n",
       "      <th>papuri</th>\n",
       "      <td>1896409</td>\n",
       "    </tr>\n",
       "    <tr>\n",
       "      <th>classicopm</th>\n",
       "      <td>588898</td>\n",
       "    </tr>\n",
       "    <tr>\n",
       "      <th>pinoypoppunk</th>\n",
       "      <td>393614</td>\n",
       "    </tr>\n",
       "    <tr>\n",
       "      <th>post-teenpop</th>\n",
       "      <td>372893</td>\n",
       "    </tr>\n",
       "    <tr>\n",
       "      <th>acousticopm</th>\n",
       "      <td>351031</td>\n",
       "    </tr>\n",
       "    <tr>\n",
       "      <th>pinoyalternativerap</th>\n",
       "      <td>336026</td>\n",
       "    </tr>\n",
       "    <tr>\n",
       "      <th>pinoysinger-songwriter</th>\n",
       "      <td>315722</td>\n",
       "    </tr>\n",
       "    <tr>\n",
       "      <th>pinoypraise</th>\n",
       "      <td>146020</td>\n",
       "    </tr>\n",
       "  </tbody>\n",
       "</table>\n",
       "</div>"
      ],
      "text/plain": [
       "                        streams_2017\n",
       "genres                              \n",
       "opm                        566249541\n",
       "pinoyrock                  165854477\n",
       "pinoyreggae                 53150151\n",
       "poprock                     48896042\n",
       "dancepop                    38476642\n",
       "pinoyindie                  26512380\n",
       "                            19249751\n",
       "pinoyr&b                    12030419\n",
       "deepneofolk                  8758629\n",
       "viralpop                     6707381\n",
       "pinoyhiphop                  6553524\n",
       "tagalograp                   6553524\n",
       "neomellow                    6334488\n",
       "acousticpop                  6334488\n",
       "pinoytrap                    3617760\n",
       "papuri                       1896409\n",
       "classicopm                    588898\n",
       "pinoypoppunk                  393614\n",
       "post-teenpop                  372893\n",
       "acousticopm                   351031\n",
       "pinoyalternativerap           336026\n",
       "pinoysinger-songwriter        315722\n",
       "pinoypraise                   146020"
      ]
     },
     "execution_count": 135,
     "metadata": {},
     "output_type": "execute_result"
    }
   ],
   "source": [
    "ax = df_genres[df_genres['year'] == 2017].groupby('genres')[['streams']].sum().sort_values(by = 'streams', ascending = False)\n",
    "ax = ax.rename(columns = {'streams':'streams_2017'})\n",
    "ax"
   ]
  },
  {
   "cell_type": "code",
   "execution_count": 136,
   "metadata": {},
   "outputs": [
    {
     "data": {
      "text/html": [
       "<div>\n",
       "<style scoped>\n",
       "    .dataframe tbody tr th:only-of-type {\n",
       "        vertical-align: middle;\n",
       "    }\n",
       "\n",
       "    .dataframe tbody tr th {\n",
       "        vertical-align: top;\n",
       "    }\n",
       "\n",
       "    .dataframe thead th {\n",
       "        text-align: right;\n",
       "    }\n",
       "</style>\n",
       "<table border=\"1\" class=\"dataframe\">\n",
       "  <thead>\n",
       "    <tr style=\"text-align: right;\">\n",
       "      <th></th>\n",
       "      <th>streams_2018</th>\n",
       "    </tr>\n",
       "    <tr>\n",
       "      <th>genres</th>\n",
       "      <th></th>\n",
       "    </tr>\n",
       "  </thead>\n",
       "  <tbody>\n",
       "    <tr>\n",
       "      <th>opm</th>\n",
       "      <td>1102698876</td>\n",
       "    </tr>\n",
       "    <tr>\n",
       "      <th>pinoyrock</th>\n",
       "      <td>266125733</td>\n",
       "    </tr>\n",
       "    <tr>\n",
       "      <th>pinoyindie</th>\n",
       "      <td>168074461</td>\n",
       "    </tr>\n",
       "    <tr>\n",
       "      <th>pinoytrap</th>\n",
       "      <td>136432680</td>\n",
       "    </tr>\n",
       "    <tr>\n",
       "      <th>pinoypoppunk</th>\n",
       "      <td>99651325</td>\n",
       "    </tr>\n",
       "    <tr>\n",
       "      <th>pinoyhiphop</th>\n",
       "      <td>96020549</td>\n",
       "    </tr>\n",
       "    <tr>\n",
       "      <th>tagalograp</th>\n",
       "      <td>95977500</td>\n",
       "    </tr>\n",
       "    <tr>\n",
       "      <th>pinoyr&amp;b</th>\n",
       "      <td>93724208</td>\n",
       "    </tr>\n",
       "    <tr>\n",
       "      <th>pinoyreggae</th>\n",
       "      <td>83470321</td>\n",
       "    </tr>\n",
       "    <tr>\n",
       "      <th>poprock</th>\n",
       "      <td>66355044</td>\n",
       "    </tr>\n",
       "    <tr>\n",
       "      <th>dancepop</th>\n",
       "      <td>29342619</td>\n",
       "    </tr>\n",
       "    <tr>\n",
       "      <th>pinoysinger-songwriter</th>\n",
       "      <td>26528211</td>\n",
       "    </tr>\n",
       "    <tr>\n",
       "      <th></th>\n",
       "      <td>16679687</td>\n",
       "    </tr>\n",
       "    <tr>\n",
       "      <th>pinoyalternativerap</th>\n",
       "      <td>12122461</td>\n",
       "    </tr>\n",
       "    <tr>\n",
       "      <th>viralpop</th>\n",
       "      <td>9691923</td>\n",
       "    </tr>\n",
       "    <tr>\n",
       "      <th>neomellow</th>\n",
       "      <td>9136609</td>\n",
       "    </tr>\n",
       "    <tr>\n",
       "      <th>acousticpop</th>\n",
       "      <td>9136609</td>\n",
       "    </tr>\n",
       "    <tr>\n",
       "      <th>classicopm</th>\n",
       "      <td>688982</td>\n",
       "    </tr>\n",
       "    <tr>\n",
       "      <th>pinoypraise</th>\n",
       "      <td>116038</td>\n",
       "    </tr>\n",
       "    <tr>\n",
       "      <th>papuri</th>\n",
       "      <td>116038</td>\n",
       "    </tr>\n",
       "    <tr>\n",
       "      <th>acousticopm</th>\n",
       "      <td>74154</td>\n",
       "    </tr>\n",
       "    <tr>\n",
       "      <th>softrock</th>\n",
       "      <td>30880</td>\n",
       "    </tr>\n",
       "    <tr>\n",
       "      <th>post-teenpop</th>\n",
       "      <td>26916</td>\n",
       "    </tr>\n",
       "  </tbody>\n",
       "</table>\n",
       "</div>"
      ],
      "text/plain": [
       "                        streams_2018\n",
       "genres                              \n",
       "opm                       1102698876\n",
       "pinoyrock                  266125733\n",
       "pinoyindie                 168074461\n",
       "pinoytrap                  136432680\n",
       "pinoypoppunk                99651325\n",
       "pinoyhiphop                 96020549\n",
       "tagalograp                  95977500\n",
       "pinoyr&b                    93724208\n",
       "pinoyreggae                 83470321\n",
       "poprock                     66355044\n",
       "dancepop                    29342619\n",
       "pinoysinger-songwriter      26528211\n",
       "                            16679687\n",
       "pinoyalternativerap         12122461\n",
       "viralpop                     9691923\n",
       "neomellow                    9136609\n",
       "acousticpop                  9136609\n",
       "classicopm                    688982\n",
       "pinoypraise                   116038\n",
       "papuri                        116038\n",
       "acousticopm                    74154\n",
       "softrock                       30880\n",
       "post-teenpop                   26916"
      ]
     },
     "execution_count": 136,
     "metadata": {},
     "output_type": "execute_result"
    }
   ],
   "source": [
    "bx = df_genres[df_genres['year'] == 2018].groupby('genres')[['streams']].sum().sort_values(by = 'streams', ascending = False)\n",
    "bx = bx.rename(columns = {'streams':'streams_2018'})\n",
    "bx"
   ]
  },
  {
   "cell_type": "code",
   "execution_count": 137,
   "metadata": {},
   "outputs": [
    {
     "data": {
      "text/html": [
       "<div>\n",
       "<style scoped>\n",
       "    .dataframe tbody tr th:only-of-type {\n",
       "        vertical-align: middle;\n",
       "    }\n",
       "\n",
       "    .dataframe tbody tr th {\n",
       "        vertical-align: top;\n",
       "    }\n",
       "\n",
       "    .dataframe thead th {\n",
       "        text-align: right;\n",
       "    }\n",
       "</style>\n",
       "<table border=\"1\" class=\"dataframe\">\n",
       "  <thead>\n",
       "    <tr style=\"text-align: right;\">\n",
       "      <th></th>\n",
       "      <th>streams_2019</th>\n",
       "    </tr>\n",
       "    <tr>\n",
       "      <th>genres</th>\n",
       "      <th></th>\n",
       "    </tr>\n",
       "  </thead>\n",
       "  <tbody>\n",
       "    <tr>\n",
       "      <th>opm</th>\n",
       "      <td>1648357801</td>\n",
       "    </tr>\n",
       "    <tr>\n",
       "      <th>pinoyrock</th>\n",
       "      <td>332835508</td>\n",
       "    </tr>\n",
       "    <tr>\n",
       "      <th>pinoypoppunk</th>\n",
       "      <td>248816533</td>\n",
       "    </tr>\n",
       "    <tr>\n",
       "      <th>pinoyhiphop</th>\n",
       "      <td>240996493</td>\n",
       "    </tr>\n",
       "    <tr>\n",
       "      <th>pinoyindie</th>\n",
       "      <td>238162486</td>\n",
       "    </tr>\n",
       "    <tr>\n",
       "      <th>pinoyr&amp;b</th>\n",
       "      <td>204813588</td>\n",
       "    </tr>\n",
       "    <tr>\n",
       "      <th>tagalograp</th>\n",
       "      <td>160430352</td>\n",
       "    </tr>\n",
       "    <tr>\n",
       "      <th>pinoyreggae</th>\n",
       "      <td>79418054</td>\n",
       "    </tr>\n",
       "    <tr>\n",
       "      <th>pinoytrap</th>\n",
       "      <td>70367916</td>\n",
       "    </tr>\n",
       "    <tr>\n",
       "      <th>poprock</th>\n",
       "      <td>55130839</td>\n",
       "    </tr>\n",
       "    <tr>\n",
       "      <th>dancepop</th>\n",
       "      <td>41781108</td>\n",
       "    </tr>\n",
       "    <tr>\n",
       "      <th>pinoysinger-songwriter</th>\n",
       "      <td>30997327</td>\n",
       "    </tr>\n",
       "    <tr>\n",
       "      <th>pinoyalternativerap</th>\n",
       "      <td>6454246</td>\n",
       "    </tr>\n",
       "    <tr>\n",
       "      <th>acousticopm</th>\n",
       "      <td>4834646</td>\n",
       "    </tr>\n",
       "    <tr>\n",
       "      <th>viralpop</th>\n",
       "      <td>2360876</td>\n",
       "    </tr>\n",
       "    <tr>\n",
       "      <th>neomellow</th>\n",
       "      <td>2360876</td>\n",
       "    </tr>\n",
       "    <tr>\n",
       "      <th>acousticpop</th>\n",
       "      <td>2360876</td>\n",
       "    </tr>\n",
       "    <tr>\n",
       "      <th></th>\n",
       "      <td>2094628</td>\n",
       "    </tr>\n",
       "    <tr>\n",
       "      <th>classicopm</th>\n",
       "      <td>903837</td>\n",
       "    </tr>\n",
       "    <tr>\n",
       "      <th>pinoypraise</th>\n",
       "      <td>118711</td>\n",
       "    </tr>\n",
       "    <tr>\n",
       "      <th>papuri</th>\n",
       "      <td>118711</td>\n",
       "    </tr>\n",
       "    <tr>\n",
       "      <th>softrock</th>\n",
       "      <td>32986</td>\n",
       "    </tr>\n",
       "    <tr>\n",
       "      <th>manilasound</th>\n",
       "      <td>28942</td>\n",
       "    </tr>\n",
       "  </tbody>\n",
       "</table>\n",
       "</div>"
      ],
      "text/plain": [
       "                        streams_2019\n",
       "genres                              \n",
       "opm                       1648357801\n",
       "pinoyrock                  332835508\n",
       "pinoypoppunk               248816533\n",
       "pinoyhiphop                240996493\n",
       "pinoyindie                 238162486\n",
       "pinoyr&b                   204813588\n",
       "tagalograp                 160430352\n",
       "pinoyreggae                 79418054\n",
       "pinoytrap                   70367916\n",
       "poprock                     55130839\n",
       "dancepop                    41781108\n",
       "pinoysinger-songwriter      30997327\n",
       "pinoyalternativerap          6454246\n",
       "acousticopm                  4834646\n",
       "viralpop                     2360876\n",
       "neomellow                    2360876\n",
       "acousticpop                  2360876\n",
       "                             2094628\n",
       "classicopm                    903837\n",
       "pinoypraise                   118711\n",
       "papuri                        118711\n",
       "softrock                       32986\n",
       "manilasound                    28942"
      ]
     },
     "execution_count": 137,
     "metadata": {},
     "output_type": "execute_result"
    }
   ],
   "source": [
    "cx = df_genres[df_genres['year'] == 2019].groupby('genres')[['streams']].sum().sort_values(by = 'streams', ascending = False)\n",
    "cx = cx.rename(columns = {'streams':'streams_2019'})\n",
    "cx"
   ]
  },
  {
   "cell_type": "code",
   "execution_count": 138,
   "metadata": {},
   "outputs": [
    {
     "data": {
      "text/html": [
       "<div>\n",
       "<style scoped>\n",
       "    .dataframe tbody tr th:only-of-type {\n",
       "        vertical-align: middle;\n",
       "    }\n",
       "\n",
       "    .dataframe tbody tr th {\n",
       "        vertical-align: top;\n",
       "    }\n",
       "\n",
       "    .dataframe thead th {\n",
       "        text-align: right;\n",
       "    }\n",
       "</style>\n",
       "<table border=\"1\" class=\"dataframe\">\n",
       "  <thead>\n",
       "    <tr style=\"text-align: right;\">\n",
       "      <th></th>\n",
       "      <th>streams_2020</th>\n",
       "    </tr>\n",
       "    <tr>\n",
       "      <th>genres</th>\n",
       "      <th></th>\n",
       "    </tr>\n",
       "  </thead>\n",
       "  <tbody>\n",
       "    <tr>\n",
       "      <th>opm</th>\n",
       "      <td>1359253745</td>\n",
       "    </tr>\n",
       "    <tr>\n",
       "      <th>pinoyhiphop</th>\n",
       "      <td>286563983</td>\n",
       "    </tr>\n",
       "    <tr>\n",
       "      <th>tagalograp</th>\n",
       "      <td>275040149</td>\n",
       "    </tr>\n",
       "    <tr>\n",
       "      <th>pinoyrock</th>\n",
       "      <td>173060038</td>\n",
       "    </tr>\n",
       "    <tr>\n",
       "      <th>pinoyindie</th>\n",
       "      <td>119026540</td>\n",
       "    </tr>\n",
       "    <tr>\n",
       "      <th>pinoyr&amp;b</th>\n",
       "      <td>96079849</td>\n",
       "    </tr>\n",
       "    <tr>\n",
       "      <th>pinoypoppunk</th>\n",
       "      <td>82026826</td>\n",
       "    </tr>\n",
       "    <tr>\n",
       "      <th>pinoyreggae</th>\n",
       "      <td>75173712</td>\n",
       "    </tr>\n",
       "    <tr>\n",
       "      <th>poprock</th>\n",
       "      <td>62147965</td>\n",
       "    </tr>\n",
       "    <tr>\n",
       "      <th>dancepop</th>\n",
       "      <td>52437102</td>\n",
       "    </tr>\n",
       "    <tr>\n",
       "      <th>pinoytrap</th>\n",
       "      <td>33300351</td>\n",
       "    </tr>\n",
       "    <tr>\n",
       "      <th>viralpop</th>\n",
       "      <td>20737389</td>\n",
       "    </tr>\n",
       "    <tr>\n",
       "      <th>acousticpop</th>\n",
       "      <td>20403992</td>\n",
       "    </tr>\n",
       "    <tr>\n",
       "      <th>neomellow</th>\n",
       "      <td>20403992</td>\n",
       "    </tr>\n",
       "    <tr>\n",
       "      <th>acousticopm</th>\n",
       "      <td>10968262</td>\n",
       "    </tr>\n",
       "    <tr>\n",
       "      <th>pinoysinger-songwriter</th>\n",
       "      <td>4991423</td>\n",
       "    </tr>\n",
       "    <tr>\n",
       "      <th>pinoyalternativerap</th>\n",
       "      <td>4589959</td>\n",
       "    </tr>\n",
       "    <tr>\n",
       "      <th>classicopm</th>\n",
       "      <td>1973179</td>\n",
       "    </tr>\n",
       "    <tr>\n",
       "      <th>pinoymetal</th>\n",
       "      <td>144694</td>\n",
       "    </tr>\n",
       "    <tr>\n",
       "      <th>pinoypraise</th>\n",
       "      <td>65977</td>\n",
       "    </tr>\n",
       "    <tr>\n",
       "      <th>papuri</th>\n",
       "      <td>65977</td>\n",
       "    </tr>\n",
       "    <tr>\n",
       "      <th>softrock</th>\n",
       "      <td>47190</td>\n",
       "    </tr>\n",
       "  </tbody>\n",
       "</table>\n",
       "</div>"
      ],
      "text/plain": [
       "                        streams_2020\n",
       "genres                              \n",
       "opm                       1359253745\n",
       "pinoyhiphop                286563983\n",
       "tagalograp                 275040149\n",
       "pinoyrock                  173060038\n",
       "pinoyindie                 119026540\n",
       "pinoyr&b                    96079849\n",
       "pinoypoppunk                82026826\n",
       "pinoyreggae                 75173712\n",
       "poprock                     62147965\n",
       "dancepop                    52437102\n",
       "pinoytrap                   33300351\n",
       "viralpop                    20737389\n",
       "acousticpop                 20403992\n",
       "neomellow                   20403992\n",
       "acousticopm                 10968262\n",
       "pinoysinger-songwriter       4991423\n",
       "pinoyalternativerap          4589959\n",
       "classicopm                   1973179\n",
       "pinoymetal                    144694\n",
       "pinoypraise                    65977\n",
       "papuri                         65977\n",
       "softrock                       47190"
      ]
     },
     "execution_count": 138,
     "metadata": {},
     "output_type": "execute_result"
    }
   ],
   "source": [
    "dx = df_genres[df_genres['year'] == 2020].groupby('genres')[['streams']].sum().sort_values(by = 'streams', ascending = False)\n",
    "dx = dx.rename(columns = {'streams':'streams_2020'})\n",
    "dx"
   ]
  },
  {
   "cell_type": "code",
   "execution_count": 139,
   "metadata": {},
   "outputs": [
    {
     "data": {
      "text/html": [
       "<div>\n",
       "<style scoped>\n",
       "    .dataframe tbody tr th:only-of-type {\n",
       "        vertical-align: middle;\n",
       "    }\n",
       "\n",
       "    .dataframe tbody tr th {\n",
       "        vertical-align: top;\n",
       "    }\n",
       "\n",
       "    .dataframe thead th {\n",
       "        text-align: right;\n",
       "    }\n",
       "</style>\n",
       "<table border=\"1\" class=\"dataframe\">\n",
       "  <thead>\n",
       "    <tr style=\"text-align: right;\">\n",
       "      <th></th>\n",
       "      <th>streams_2017</th>\n",
       "      <th>streams_2018</th>\n",
       "    </tr>\n",
       "    <tr>\n",
       "      <th>genres</th>\n",
       "      <th></th>\n",
       "      <th></th>\n",
       "    </tr>\n",
       "  </thead>\n",
       "  <tbody>\n",
       "    <tr>\n",
       "      <th>opm</th>\n",
       "      <td>566249541.0</td>\n",
       "      <td>1.102699e+09</td>\n",
       "    </tr>\n",
       "    <tr>\n",
       "      <th>pinoyrock</th>\n",
       "      <td>165854477.0</td>\n",
       "      <td>2.661257e+08</td>\n",
       "    </tr>\n",
       "    <tr>\n",
       "      <th>pinoyreggae</th>\n",
       "      <td>53150151.0</td>\n",
       "      <td>8.347032e+07</td>\n",
       "    </tr>\n",
       "    <tr>\n",
       "      <th>poprock</th>\n",
       "      <td>48896042.0</td>\n",
       "      <td>6.635504e+07</td>\n",
       "    </tr>\n",
       "    <tr>\n",
       "      <th>dancepop</th>\n",
       "      <td>38476642.0</td>\n",
       "      <td>2.934262e+07</td>\n",
       "    </tr>\n",
       "    <tr>\n",
       "      <th>pinoyindie</th>\n",
       "      <td>26512380.0</td>\n",
       "      <td>1.680745e+08</td>\n",
       "    </tr>\n",
       "    <tr>\n",
       "      <th></th>\n",
       "      <td>19249751.0</td>\n",
       "      <td>1.667969e+07</td>\n",
       "    </tr>\n",
       "    <tr>\n",
       "      <th>pinoyr&amp;b</th>\n",
       "      <td>12030419.0</td>\n",
       "      <td>9.372421e+07</td>\n",
       "    </tr>\n",
       "    <tr>\n",
       "      <th>deepneofolk</th>\n",
       "      <td>8758629.0</td>\n",
       "      <td>NaN</td>\n",
       "    </tr>\n",
       "    <tr>\n",
       "      <th>viralpop</th>\n",
       "      <td>6707381.0</td>\n",
       "      <td>9.691923e+06</td>\n",
       "    </tr>\n",
       "    <tr>\n",
       "      <th>pinoyhiphop</th>\n",
       "      <td>6553524.0</td>\n",
       "      <td>9.602055e+07</td>\n",
       "    </tr>\n",
       "    <tr>\n",
       "      <th>tagalograp</th>\n",
       "      <td>6553524.0</td>\n",
       "      <td>9.597750e+07</td>\n",
       "    </tr>\n",
       "    <tr>\n",
       "      <th>neomellow</th>\n",
       "      <td>6334488.0</td>\n",
       "      <td>9.136609e+06</td>\n",
       "    </tr>\n",
       "    <tr>\n",
       "      <th>acousticpop</th>\n",
       "      <td>6334488.0</td>\n",
       "      <td>9.136609e+06</td>\n",
       "    </tr>\n",
       "    <tr>\n",
       "      <th>pinoytrap</th>\n",
       "      <td>3617760.0</td>\n",
       "      <td>1.364327e+08</td>\n",
       "    </tr>\n",
       "    <tr>\n",
       "      <th>papuri</th>\n",
       "      <td>1896409.0</td>\n",
       "      <td>1.160380e+05</td>\n",
       "    </tr>\n",
       "    <tr>\n",
       "      <th>classicopm</th>\n",
       "      <td>588898.0</td>\n",
       "      <td>6.889820e+05</td>\n",
       "    </tr>\n",
       "    <tr>\n",
       "      <th>pinoypoppunk</th>\n",
       "      <td>393614.0</td>\n",
       "      <td>9.965132e+07</td>\n",
       "    </tr>\n",
       "    <tr>\n",
       "      <th>post-teenpop</th>\n",
       "      <td>372893.0</td>\n",
       "      <td>2.691600e+04</td>\n",
       "    </tr>\n",
       "    <tr>\n",
       "      <th>acousticopm</th>\n",
       "      <td>351031.0</td>\n",
       "      <td>7.415400e+04</td>\n",
       "    </tr>\n",
       "    <tr>\n",
       "      <th>pinoyalternativerap</th>\n",
       "      <td>336026.0</td>\n",
       "      <td>1.212246e+07</td>\n",
       "    </tr>\n",
       "    <tr>\n",
       "      <th>pinoysinger-songwriter</th>\n",
       "      <td>315722.0</td>\n",
       "      <td>2.652821e+07</td>\n",
       "    </tr>\n",
       "    <tr>\n",
       "      <th>pinoypraise</th>\n",
       "      <td>146020.0</td>\n",
       "      <td>1.160380e+05</td>\n",
       "    </tr>\n",
       "    <tr>\n",
       "      <th>softrock</th>\n",
       "      <td>NaN</td>\n",
       "      <td>3.088000e+04</td>\n",
       "    </tr>\n",
       "  </tbody>\n",
       "</table>\n",
       "</div>"
      ],
      "text/plain": [
       "                        streams_2017  streams_2018\n",
       "genres                                            \n",
       "opm                      566249541.0  1.102699e+09\n",
       "pinoyrock                165854477.0  2.661257e+08\n",
       "pinoyreggae               53150151.0  8.347032e+07\n",
       "poprock                   48896042.0  6.635504e+07\n",
       "dancepop                  38476642.0  2.934262e+07\n",
       "pinoyindie                26512380.0  1.680745e+08\n",
       "                          19249751.0  1.667969e+07\n",
       "pinoyr&b                  12030419.0  9.372421e+07\n",
       "deepneofolk                8758629.0           NaN\n",
       "viralpop                   6707381.0  9.691923e+06\n",
       "pinoyhiphop                6553524.0  9.602055e+07\n",
       "tagalograp                 6553524.0  9.597750e+07\n",
       "neomellow                  6334488.0  9.136609e+06\n",
       "acousticpop                6334488.0  9.136609e+06\n",
       "pinoytrap                  3617760.0  1.364327e+08\n",
       "papuri                     1896409.0  1.160380e+05\n",
       "classicopm                  588898.0  6.889820e+05\n",
       "pinoypoppunk                393614.0  9.965132e+07\n",
       "post-teenpop                372893.0  2.691600e+04\n",
       "acousticopm                 351031.0  7.415400e+04\n",
       "pinoyalternativerap         336026.0  1.212246e+07\n",
       "pinoysinger-songwriter      315722.0  2.652821e+07\n",
       "pinoypraise                 146020.0  1.160380e+05\n",
       "softrock                         NaN  3.088000e+04"
      ]
     },
     "execution_count": 139,
     "metadata": {},
     "output_type": "execute_result"
    }
   ],
   "source": [
    "df_1 = pd.merge(ax, bx, how = 'outer', on = 'genres')\n",
    "df_1"
   ]
  },
  {
   "cell_type": "code",
   "execution_count": 140,
   "metadata": {},
   "outputs": [
    {
     "data": {
      "text/html": [
       "<div>\n",
       "<style scoped>\n",
       "    .dataframe tbody tr th:only-of-type {\n",
       "        vertical-align: middle;\n",
       "    }\n",
       "\n",
       "    .dataframe tbody tr th {\n",
       "        vertical-align: top;\n",
       "    }\n",
       "\n",
       "    .dataframe thead th {\n",
       "        text-align: right;\n",
       "    }\n",
       "</style>\n",
       "<table border=\"1\" class=\"dataframe\">\n",
       "  <thead>\n",
       "    <tr style=\"text-align: right;\">\n",
       "      <th></th>\n",
       "      <th>streams_2019</th>\n",
       "      <th>streams_2020</th>\n",
       "    </tr>\n",
       "    <tr>\n",
       "      <th>genres</th>\n",
       "      <th></th>\n",
       "      <th></th>\n",
       "    </tr>\n",
       "  </thead>\n",
       "  <tbody>\n",
       "    <tr>\n",
       "      <th>opm</th>\n",
       "      <td>1.648358e+09</td>\n",
       "      <td>1.359254e+09</td>\n",
       "    </tr>\n",
       "    <tr>\n",
       "      <th>pinoyrock</th>\n",
       "      <td>3.328355e+08</td>\n",
       "      <td>1.730600e+08</td>\n",
       "    </tr>\n",
       "    <tr>\n",
       "      <th>pinoypoppunk</th>\n",
       "      <td>2.488165e+08</td>\n",
       "      <td>8.202683e+07</td>\n",
       "    </tr>\n",
       "    <tr>\n",
       "      <th>pinoyhiphop</th>\n",
       "      <td>2.409965e+08</td>\n",
       "      <td>2.865640e+08</td>\n",
       "    </tr>\n",
       "    <tr>\n",
       "      <th>pinoyindie</th>\n",
       "      <td>2.381625e+08</td>\n",
       "      <td>1.190265e+08</td>\n",
       "    </tr>\n",
       "    <tr>\n",
       "      <th>pinoyr&amp;b</th>\n",
       "      <td>2.048136e+08</td>\n",
       "      <td>9.607985e+07</td>\n",
       "    </tr>\n",
       "    <tr>\n",
       "      <th>tagalograp</th>\n",
       "      <td>1.604304e+08</td>\n",
       "      <td>2.750401e+08</td>\n",
       "    </tr>\n",
       "    <tr>\n",
       "      <th>pinoyreggae</th>\n",
       "      <td>7.941805e+07</td>\n",
       "      <td>7.517371e+07</td>\n",
       "    </tr>\n",
       "    <tr>\n",
       "      <th>pinoytrap</th>\n",
       "      <td>7.036792e+07</td>\n",
       "      <td>3.330035e+07</td>\n",
       "    </tr>\n",
       "    <tr>\n",
       "      <th>poprock</th>\n",
       "      <td>5.513084e+07</td>\n",
       "      <td>6.214796e+07</td>\n",
       "    </tr>\n",
       "    <tr>\n",
       "      <th>dancepop</th>\n",
       "      <td>4.178111e+07</td>\n",
       "      <td>5.243710e+07</td>\n",
       "    </tr>\n",
       "    <tr>\n",
       "      <th>pinoysinger-songwriter</th>\n",
       "      <td>3.099733e+07</td>\n",
       "      <td>4.991423e+06</td>\n",
       "    </tr>\n",
       "    <tr>\n",
       "      <th>pinoyalternativerap</th>\n",
       "      <td>6.454246e+06</td>\n",
       "      <td>4.589959e+06</td>\n",
       "    </tr>\n",
       "    <tr>\n",
       "      <th>acousticopm</th>\n",
       "      <td>4.834646e+06</td>\n",
       "      <td>1.096826e+07</td>\n",
       "    </tr>\n",
       "    <tr>\n",
       "      <th>viralpop</th>\n",
       "      <td>2.360876e+06</td>\n",
       "      <td>2.073739e+07</td>\n",
       "    </tr>\n",
       "    <tr>\n",
       "      <th>neomellow</th>\n",
       "      <td>2.360876e+06</td>\n",
       "      <td>2.040399e+07</td>\n",
       "    </tr>\n",
       "    <tr>\n",
       "      <th>acousticpop</th>\n",
       "      <td>2.360876e+06</td>\n",
       "      <td>2.040399e+07</td>\n",
       "    </tr>\n",
       "    <tr>\n",
       "      <th></th>\n",
       "      <td>2.094628e+06</td>\n",
       "      <td>NaN</td>\n",
       "    </tr>\n",
       "    <tr>\n",
       "      <th>classicopm</th>\n",
       "      <td>9.038370e+05</td>\n",
       "      <td>1.973179e+06</td>\n",
       "    </tr>\n",
       "    <tr>\n",
       "      <th>pinoypraise</th>\n",
       "      <td>1.187110e+05</td>\n",
       "      <td>6.597700e+04</td>\n",
       "    </tr>\n",
       "    <tr>\n",
       "      <th>papuri</th>\n",
       "      <td>1.187110e+05</td>\n",
       "      <td>6.597700e+04</td>\n",
       "    </tr>\n",
       "    <tr>\n",
       "      <th>softrock</th>\n",
       "      <td>3.298600e+04</td>\n",
       "      <td>4.719000e+04</td>\n",
       "    </tr>\n",
       "    <tr>\n",
       "      <th>manilasound</th>\n",
       "      <td>2.894200e+04</td>\n",
       "      <td>NaN</td>\n",
       "    </tr>\n",
       "    <tr>\n",
       "      <th>pinoymetal</th>\n",
       "      <td>NaN</td>\n",
       "      <td>1.446940e+05</td>\n",
       "    </tr>\n",
       "  </tbody>\n",
       "</table>\n",
       "</div>"
      ],
      "text/plain": [
       "                        streams_2019  streams_2020\n",
       "genres                                            \n",
       "opm                     1.648358e+09  1.359254e+09\n",
       "pinoyrock               3.328355e+08  1.730600e+08\n",
       "pinoypoppunk            2.488165e+08  8.202683e+07\n",
       "pinoyhiphop             2.409965e+08  2.865640e+08\n",
       "pinoyindie              2.381625e+08  1.190265e+08\n",
       "pinoyr&b                2.048136e+08  9.607985e+07\n",
       "tagalograp              1.604304e+08  2.750401e+08\n",
       "pinoyreggae             7.941805e+07  7.517371e+07\n",
       "pinoytrap               7.036792e+07  3.330035e+07\n",
       "poprock                 5.513084e+07  6.214796e+07\n",
       "dancepop                4.178111e+07  5.243710e+07\n",
       "pinoysinger-songwriter  3.099733e+07  4.991423e+06\n",
       "pinoyalternativerap     6.454246e+06  4.589959e+06\n",
       "acousticopm             4.834646e+06  1.096826e+07\n",
       "viralpop                2.360876e+06  2.073739e+07\n",
       "neomellow               2.360876e+06  2.040399e+07\n",
       "acousticpop             2.360876e+06  2.040399e+07\n",
       "                        2.094628e+06           NaN\n",
       "classicopm              9.038370e+05  1.973179e+06\n",
       "pinoypraise             1.187110e+05  6.597700e+04\n",
       "papuri                  1.187110e+05  6.597700e+04\n",
       "softrock                3.298600e+04  4.719000e+04\n",
       "manilasound             2.894200e+04           NaN\n",
       "pinoymetal                       NaN  1.446940e+05"
      ]
     },
     "execution_count": 140,
     "metadata": {},
     "output_type": "execute_result"
    }
   ],
   "source": [
    "df_2 = pd.merge(cx, dx, how = 'outer', on = 'genres')\n",
    "df_2"
   ]
  },
  {
   "cell_type": "code",
   "execution_count": 141,
   "metadata": {},
   "outputs": [
    {
     "data": {
      "text/html": [
       "<div>\n",
       "<style scoped>\n",
       "    .dataframe tbody tr th:only-of-type {\n",
       "        vertical-align: middle;\n",
       "    }\n",
       "\n",
       "    .dataframe tbody tr th {\n",
       "        vertical-align: top;\n",
       "    }\n",
       "\n",
       "    .dataframe thead th {\n",
       "        text-align: right;\n",
       "    }\n",
       "</style>\n",
       "<table border=\"1\" class=\"dataframe\">\n",
       "  <thead>\n",
       "    <tr style=\"text-align: right;\">\n",
       "      <th></th>\n",
       "      <th>streams_2017</th>\n",
       "      <th>streams_2018</th>\n",
       "      <th>streams_2019</th>\n",
       "      <th>streams_2020</th>\n",
       "    </tr>\n",
       "    <tr>\n",
       "      <th>genres</th>\n",
       "      <th></th>\n",
       "      <th></th>\n",
       "      <th></th>\n",
       "      <th></th>\n",
       "    </tr>\n",
       "  </thead>\n",
       "  <tbody>\n",
       "    <tr>\n",
       "      <th>opm</th>\n",
       "      <td>566249541.0</td>\n",
       "      <td>1.102699e+09</td>\n",
       "      <td>1.648358e+09</td>\n",
       "      <td>1.359254e+09</td>\n",
       "    </tr>\n",
       "    <tr>\n",
       "      <th>pinoyrock</th>\n",
       "      <td>165854477.0</td>\n",
       "      <td>2.661257e+08</td>\n",
       "      <td>3.328355e+08</td>\n",
       "      <td>1.730600e+08</td>\n",
       "    </tr>\n",
       "    <tr>\n",
       "      <th>pinoyreggae</th>\n",
       "      <td>53150151.0</td>\n",
       "      <td>8.347032e+07</td>\n",
       "      <td>7.941805e+07</td>\n",
       "      <td>7.517371e+07</td>\n",
       "    </tr>\n",
       "    <tr>\n",
       "      <th>poprock</th>\n",
       "      <td>48896042.0</td>\n",
       "      <td>6.635504e+07</td>\n",
       "      <td>5.513084e+07</td>\n",
       "      <td>6.214796e+07</td>\n",
       "    </tr>\n",
       "    <tr>\n",
       "      <th>dancepop</th>\n",
       "      <td>38476642.0</td>\n",
       "      <td>2.934262e+07</td>\n",
       "      <td>4.178111e+07</td>\n",
       "      <td>5.243710e+07</td>\n",
       "    </tr>\n",
       "    <tr>\n",
       "      <th>pinoyindie</th>\n",
       "      <td>26512380.0</td>\n",
       "      <td>1.680745e+08</td>\n",
       "      <td>2.381625e+08</td>\n",
       "      <td>1.190265e+08</td>\n",
       "    </tr>\n",
       "    <tr>\n",
       "      <th></th>\n",
       "      <td>19249751.0</td>\n",
       "      <td>1.667969e+07</td>\n",
       "      <td>2.094628e+06</td>\n",
       "      <td>0.000000e+00</td>\n",
       "    </tr>\n",
       "    <tr>\n",
       "      <th>pinoyr&amp;b</th>\n",
       "      <td>12030419.0</td>\n",
       "      <td>9.372421e+07</td>\n",
       "      <td>2.048136e+08</td>\n",
       "      <td>9.607985e+07</td>\n",
       "    </tr>\n",
       "    <tr>\n",
       "      <th>deepneofolk</th>\n",
       "      <td>8758629.0</td>\n",
       "      <td>0.000000e+00</td>\n",
       "      <td>0.000000e+00</td>\n",
       "      <td>0.000000e+00</td>\n",
       "    </tr>\n",
       "    <tr>\n",
       "      <th>viralpop</th>\n",
       "      <td>6707381.0</td>\n",
       "      <td>9.691923e+06</td>\n",
       "      <td>2.360876e+06</td>\n",
       "      <td>2.073739e+07</td>\n",
       "    </tr>\n",
       "    <tr>\n",
       "      <th>pinoyhiphop</th>\n",
       "      <td>6553524.0</td>\n",
       "      <td>9.602055e+07</td>\n",
       "      <td>2.409965e+08</td>\n",
       "      <td>2.865640e+08</td>\n",
       "    </tr>\n",
       "    <tr>\n",
       "      <th>tagalograp</th>\n",
       "      <td>6553524.0</td>\n",
       "      <td>9.597750e+07</td>\n",
       "      <td>1.604304e+08</td>\n",
       "      <td>2.750401e+08</td>\n",
       "    </tr>\n",
       "    <tr>\n",
       "      <th>neomellow</th>\n",
       "      <td>6334488.0</td>\n",
       "      <td>9.136609e+06</td>\n",
       "      <td>2.360876e+06</td>\n",
       "      <td>2.040399e+07</td>\n",
       "    </tr>\n",
       "    <tr>\n",
       "      <th>acousticpop</th>\n",
       "      <td>6334488.0</td>\n",
       "      <td>9.136609e+06</td>\n",
       "      <td>2.360876e+06</td>\n",
       "      <td>2.040399e+07</td>\n",
       "    </tr>\n",
       "    <tr>\n",
       "      <th>pinoytrap</th>\n",
       "      <td>3617760.0</td>\n",
       "      <td>1.364327e+08</td>\n",
       "      <td>7.036792e+07</td>\n",
       "      <td>3.330035e+07</td>\n",
       "    </tr>\n",
       "    <tr>\n",
       "      <th>papuri</th>\n",
       "      <td>1896409.0</td>\n",
       "      <td>1.160380e+05</td>\n",
       "      <td>1.187110e+05</td>\n",
       "      <td>6.597700e+04</td>\n",
       "    </tr>\n",
       "    <tr>\n",
       "      <th>classicopm</th>\n",
       "      <td>588898.0</td>\n",
       "      <td>6.889820e+05</td>\n",
       "      <td>9.038370e+05</td>\n",
       "      <td>1.973179e+06</td>\n",
       "    </tr>\n",
       "    <tr>\n",
       "      <th>pinoypoppunk</th>\n",
       "      <td>393614.0</td>\n",
       "      <td>9.965132e+07</td>\n",
       "      <td>2.488165e+08</td>\n",
       "      <td>8.202683e+07</td>\n",
       "    </tr>\n",
       "    <tr>\n",
       "      <th>post-teenpop</th>\n",
       "      <td>372893.0</td>\n",
       "      <td>2.691600e+04</td>\n",
       "      <td>0.000000e+00</td>\n",
       "      <td>0.000000e+00</td>\n",
       "    </tr>\n",
       "    <tr>\n",
       "      <th>acousticopm</th>\n",
       "      <td>351031.0</td>\n",
       "      <td>7.415400e+04</td>\n",
       "      <td>4.834646e+06</td>\n",
       "      <td>1.096826e+07</td>\n",
       "    </tr>\n",
       "    <tr>\n",
       "      <th>pinoyalternativerap</th>\n",
       "      <td>336026.0</td>\n",
       "      <td>1.212246e+07</td>\n",
       "      <td>6.454246e+06</td>\n",
       "      <td>4.589959e+06</td>\n",
       "    </tr>\n",
       "    <tr>\n",
       "      <th>pinoysinger-songwriter</th>\n",
       "      <td>315722.0</td>\n",
       "      <td>2.652821e+07</td>\n",
       "      <td>3.099733e+07</td>\n",
       "      <td>4.991423e+06</td>\n",
       "    </tr>\n",
       "    <tr>\n",
       "      <th>pinoypraise</th>\n",
       "      <td>146020.0</td>\n",
       "      <td>1.160380e+05</td>\n",
       "      <td>1.187110e+05</td>\n",
       "      <td>6.597700e+04</td>\n",
       "    </tr>\n",
       "    <tr>\n",
       "      <th>softrock</th>\n",
       "      <td>0.0</td>\n",
       "      <td>3.088000e+04</td>\n",
       "      <td>3.298600e+04</td>\n",
       "      <td>4.719000e+04</td>\n",
       "    </tr>\n",
       "    <tr>\n",
       "      <th>manilasound</th>\n",
       "      <td>0.0</td>\n",
       "      <td>0.000000e+00</td>\n",
       "      <td>2.894200e+04</td>\n",
       "      <td>0.000000e+00</td>\n",
       "    </tr>\n",
       "    <tr>\n",
       "      <th>pinoymetal</th>\n",
       "      <td>0.0</td>\n",
       "      <td>0.000000e+00</td>\n",
       "      <td>0.000000e+00</td>\n",
       "      <td>1.446940e+05</td>\n",
       "    </tr>\n",
       "  </tbody>\n",
       "</table>\n",
       "</div>"
      ],
      "text/plain": [
       "                        streams_2017  streams_2018  streams_2019  streams_2020\n",
       "genres                                                                        \n",
       "opm                      566249541.0  1.102699e+09  1.648358e+09  1.359254e+09\n",
       "pinoyrock                165854477.0  2.661257e+08  3.328355e+08  1.730600e+08\n",
       "pinoyreggae               53150151.0  8.347032e+07  7.941805e+07  7.517371e+07\n",
       "poprock                   48896042.0  6.635504e+07  5.513084e+07  6.214796e+07\n",
       "dancepop                  38476642.0  2.934262e+07  4.178111e+07  5.243710e+07\n",
       "pinoyindie                26512380.0  1.680745e+08  2.381625e+08  1.190265e+08\n",
       "                          19249751.0  1.667969e+07  2.094628e+06  0.000000e+00\n",
       "pinoyr&b                  12030419.0  9.372421e+07  2.048136e+08  9.607985e+07\n",
       "deepneofolk                8758629.0  0.000000e+00  0.000000e+00  0.000000e+00\n",
       "viralpop                   6707381.0  9.691923e+06  2.360876e+06  2.073739e+07\n",
       "pinoyhiphop                6553524.0  9.602055e+07  2.409965e+08  2.865640e+08\n",
       "tagalograp                 6553524.0  9.597750e+07  1.604304e+08  2.750401e+08\n",
       "neomellow                  6334488.0  9.136609e+06  2.360876e+06  2.040399e+07\n",
       "acousticpop                6334488.0  9.136609e+06  2.360876e+06  2.040399e+07\n",
       "pinoytrap                  3617760.0  1.364327e+08  7.036792e+07  3.330035e+07\n",
       "papuri                     1896409.0  1.160380e+05  1.187110e+05  6.597700e+04\n",
       "classicopm                  588898.0  6.889820e+05  9.038370e+05  1.973179e+06\n",
       "pinoypoppunk                393614.0  9.965132e+07  2.488165e+08  8.202683e+07\n",
       "post-teenpop                372893.0  2.691600e+04  0.000000e+00  0.000000e+00\n",
       "acousticopm                 351031.0  7.415400e+04  4.834646e+06  1.096826e+07\n",
       "pinoyalternativerap         336026.0  1.212246e+07  6.454246e+06  4.589959e+06\n",
       "pinoysinger-songwriter      315722.0  2.652821e+07  3.099733e+07  4.991423e+06\n",
       "pinoypraise                 146020.0  1.160380e+05  1.187110e+05  6.597700e+04\n",
       "softrock                         0.0  3.088000e+04  3.298600e+04  4.719000e+04\n",
       "manilasound                      0.0  0.000000e+00  2.894200e+04  0.000000e+00\n",
       "pinoymetal                       0.0  0.000000e+00  0.000000e+00  1.446940e+05"
      ]
     },
     "execution_count": 141,
     "metadata": {},
     "output_type": "execute_result"
    }
   ],
   "source": [
    "df_final = pd.merge(df_1, df_2, how = 'outer', on = 'genres')\n",
    "df_final = df_final\n",
    "df_final = df_final.fillna(0)\n",
    "df_final"
   ]
  },
  {
   "cell_type": "code",
   "execution_count": 142,
   "metadata": {},
   "outputs": [],
   "source": [
    "# graphing line chart\n",
    "yr_ = [2017, 2018, 2019, 2020]"
   ]
  },
  {
   "cell_type": "code",
   "execution_count": 143,
   "metadata": {},
   "outputs": [
    {
     "data": {
      "text/plain": [
       "Text(0, 0.5, 'OPM')"
      ]
     },
     "execution_count": 143,
     "metadata": {},
     "output_type": "execute_result"
    },
    {
     "data": {
      "image/png": "[encoded data removed]",
      "text/plain": [
       "<Figure size 432x288 with 1 Axes>"
      ]
     },
     "metadata": {
      "needs_background": "light"
     },
     "output_type": "display_data"
    }
   ],
   "source": [
    "# opm\n",
    "sns.barplot(x = yr_, y = df_final.iloc[0])\n",
    "plt.xlabel('Year')\n",
    "plt.ylabel('OPM')"
   ]
  },
  {
   "cell_type": "code",
   "execution_count": 144,
   "metadata": {},
   "outputs": [
    {
     "data": {
      "text/plain": [
       "Text(0, 0.5, 'PinoyRock')"
      ]
     },
     "execution_count": 144,
     "metadata": {},
     "output_type": "execute_result"
    },
    {
     "data": {
      "image/png": "[encoded data removed]",
      "text/plain": [
       "<Figure size 432x288 with 1 Axes>"
      ]
     },
     "metadata": {
      "needs_background": "light"
     },
     "output_type": "display_data"
    }
   ],
   "source": [
    "sns.barplot(x = yr_, y = df_final.iloc[1])\n",
    "plt.xlabel('Year')\n",
    "plt.ylabel('PinoyRock')"
   ]
  },
  {
   "cell_type": "code",
   "execution_count": 145,
   "metadata": {},
   "outputs": [
    {
     "data": {
      "text/plain": [
       "Text(0, 0.5, 'PinoyReggae')"
      ]
     },
     "execution_count": 145,
     "metadata": {},
     "output_type": "execute_result"
    },
    {
     "data": {
      "image/png": "[encoded data removed]",
      "text/plain": [
       "<Figure size 432x288 with 1 Axes>"
      ]
     },
     "metadata": {
      "needs_background": "light"
     },
     "output_type": "display_data"
    }
   ],
   "source": [
    "sns.barplot(x = yr_, y = df_final.iloc[2])\n",
    "plt.xlabel('Year')\n",
    "plt.ylabel('PinoyReggae')"
   ]
  },
  {
   "cell_type": "code",
   "execution_count": 146,
   "metadata": {},
   "outputs": [
    {
     "data": {
      "text/plain": [
       "Text(0, 0.5, 'PopRock')"
      ]
     },
     "execution_count": 146,
     "metadata": {},
     "output_type": "execute_result"
    },
    {
     "data": {
      "image/png": "[encoded data removed]",
      "text/plain": [
       "<Figure size 432x288 with 1 Axes>"
      ]
     },
     "metadata": {
      "needs_background": "light"
     },
     "output_type": "display_data"
    }
   ],
   "source": [
    "sns.barplot(x = yr_, y = df_final.iloc[3])\n",
    "plt.xlabel('Year')\n",
    "plt.ylabel('PopRock')"
   ]
  },
  {
   "cell_type": "code",
   "execution_count": 147,
   "metadata": {},
   "outputs": [
    {
     "data": {
      "text/plain": [
       "Text(0, 0.5, 'DancePop')"
      ]
     },
     "execution_count": 147,
     "metadata": {},
     "output_type": "execute_result"
    },
    {
     "data": {
      "image/png": "[encoded data removed]",
      "text/plain": [
       "<Figure size 432x288 with 1 Axes>"
      ]
     },
     "metadata": {
      "needs_background": "light"
     },
     "output_type": "display_data"
    }
   ],
   "source": [
    "sns.barplot(x = yr_, y = df_final.iloc[4])\n",
    "plt.xlabel('Year')\n",
    "plt.ylabel('DancePop')"
   ]
  },
  {
   "cell_type": "code",
   "execution_count": 148,
   "metadata": {},
   "outputs": [
    {
     "data": {
      "text/plain": [
       "Text(0, 0.5, 'PinoyIndie')"
      ]
     },
     "execution_count": 148,
     "metadata": {},
     "output_type": "execute_result"
    },
    {
     "data": {
      "image/png": "[encoded data removed]",
      "text/plain": [
       "<Figure size 432x288 with 1 Axes>"
      ]
     },
     "metadata": {
      "needs_background": "light"
     },
     "output_type": "display_data"
    }
   ],
   "source": [
    "sns.barplot(x = yr_, y = df_final.iloc[5])\n",
    "plt.xlabel('Year')\n",
    "plt.ylabel('PinoyIndie')"
   ]
  },
  {
   "cell_type": "code",
   "execution_count": 149,
   "metadata": {},
   "outputs": [
    {
     "data": {
      "text/plain": [
       "Text(0, 0.5, '')"
      ]
     },
     "execution_count": 149,
     "metadata": {},
     "output_type": "execute_result"
    },
    {
     "data": {
      "image/png": "[encoded data removed]",
      "text/plain": [
       "<Figure size 432x288 with 1 Axes>"
      ]
     },
     "metadata": {
      "needs_background": "light"
     },
     "output_type": "display_data"
    }
   ],
   "source": [
    "sns.barplot(x = yr_, y = df_final.iloc[6])\n",
    "plt.xlabel('Year')\n",
    "plt.ylabel('')"
   ]
  },
  {
   "cell_type": "code",
   "execution_count": 150,
   "metadata": {},
   "outputs": [
    {
     "data": {
      "text/plain": [
       "Text(0, 0.5, 'PinoyR&B')"
      ]
     },
     "execution_count": 150,
     "metadata": {},
     "output_type": "execute_result"
    },
    {
     "data": {
      "image/png": "[encoded data removed]",
      "text/plain": [
       "<Figure size 432x288 with 1 Axes>"
      ]
     },
     "metadata": {
      "needs_background": "light"
     },
     "output_type": "display_data"
    }
   ],
   "source": [
    "sns.barplot(x = yr_, y = df_final.iloc[7])\n",
    "plt.xlabel('Year')\n",
    "plt.ylabel('PinoyR&B')"
   ]
  },
  {
   "cell_type": "code",
   "execution_count": 151,
   "metadata": {},
   "outputs": [
    {
     "data": {
      "text/plain": [
       "Text(0, 0.5, 'DeepNeoFolk')"
      ]
     },
     "execution_count": 151,
     "metadata": {},
     "output_type": "execute_result"
    },
    {
     "data": {
      "image/png": "[encoded data removed]",
      "text/plain": [
       "<Figure size 432x288 with 1 Axes>"
      ]
     },
     "metadata": {
      "needs_background": "light"
     },
     "output_type": "display_data"
    }
   ],
   "source": [
    "sns.barplot(x = yr_, y = df_final.iloc[8])\n",
    "plt.xlabel('Year')\n",
    "plt.ylabel('DeepNeoFolk')"
   ]
  },
  {
   "cell_type": "code",
   "execution_count": 152,
   "metadata": {},
   "outputs": [
    {
     "data": {
      "text/plain": [
       "Text(0, 0.5, 'ViralPop')"
      ]
     },
     "execution_count": 152,
     "metadata": {},
     "output_type": "execute_result"
    },
    {
     "data": {
      "image/png": "[encoded data removed]",
      "text/plain": [
       "<Figure size 432x288 with 1 Axes>"
      ]
     },
     "metadata": {
      "needs_background": "light"
     },
     "output_type": "display_data"
    }
   ],
   "source": [
    "sns.barplot(x = yr_, y = df_final.iloc[9])\n",
    "plt.xlabel('Year')\n",
    "plt.ylabel('ViralPop')"
   ]
  },
  {
   "cell_type": "code",
   "execution_count": 153,
   "metadata": {},
   "outputs": [
    {
     "data": {
      "text/plain": [
       "Text(0, 0.5, 'PinoyHipHop')"
      ]
     },
     "execution_count": 153,
     "metadata": {},
     "output_type": "execute_result"
    },
    {
     "data": {
      "image/png": "[encoded data removed]",
      "text/plain": [
       "<Figure size 432x288 with 1 Axes>"
      ]
     },
     "metadata": {
      "needs_background": "light"
     },
     "output_type": "display_data"
    }
   ],
   "source": [
    "sns.barplot(x = yr_, y = df_final.iloc[10])\n",
    "plt.xlabel('Year')\n",
    "plt.ylabel('PinoyHipHop')"
   ]
  },
  {
   "cell_type": "code",
   "execution_count": 154,
   "metadata": {},
   "outputs": [
    {
     "data": {
      "text/plain": [
       "Text(0, 0.5, 'TagalogRap')"
      ]
     },
     "execution_count": 154,
     "metadata": {},
     "output_type": "execute_result"
    },
    {
     "data": {
      "image/png": "[encoded data removed]",
      "text/plain": [
       "<Figure size 432x288 with 1 Axes>"
      ]
     },
     "metadata": {
      "needs_background": "light"
     },
     "output_type": "display_data"
    }
   ],
   "source": [
    "sns.barplot(x = yr_, y = df_final.iloc[11])\n",
    "plt.xlabel('Year')\n",
    "plt.ylabel('TagalogRap')"
   ]
  },
  {
   "cell_type": "code",
   "execution_count": 155,
   "metadata": {},
   "outputs": [
    {
     "data": {
      "text/plain": [
       "Text(0, 0.5, 'NeoMellow')"
      ]
     },
     "execution_count": 155,
     "metadata": {},
     "output_type": "execute_result"
    },
    {
     "data": {
      "image/png": "[encoded data removed]",
      "text/plain": [
       "<Figure size 432x288 with 1 Axes>"
      ]
     },
     "metadata": {
      "needs_background": "light"
     },
     "output_type": "display_data"
    }
   ],
   "source": [
    "sns.barplot(x = yr_, y = df_final.iloc[12])\n",
    "plt.xlabel('Year')\n",
    "plt.ylabel('NeoMellow')"
   ]
  },
  {
   "cell_type": "code",
   "execution_count": 156,
   "metadata": {},
   "outputs": [
    {
     "data": {
      "text/plain": [
       "Text(0, 0.5, 'AcousticPop')"
      ]
     },
     "execution_count": 156,
     "metadata": {},
     "output_type": "execute_result"
    },
    {
     "data": {
      "image/png": "[encoded data removed]",
      "text/plain": [
       "<Figure size 432x288 with 1 Axes>"
      ]
     },
     "metadata": {
      "needs_background": "light"
     },
     "output_type": "display_data"
    }
   ],
   "source": [
    "sns.barplot(x = yr_, y = df_final.iloc[13])\n",
    "plt.xlabel('Year')\n",
    "plt.ylabel('AcousticPop')"
   ]
  },
  {
   "cell_type": "code",
   "execution_count": 157,
   "metadata": {},
   "outputs": [
    {
     "data": {
      "text/plain": [
       "Text(0, 0.5, 'PinoyTrap')"
      ]
     },
     "execution_count": 157,
     "metadata": {},
     "output_type": "execute_result"
    },
    {
     "data": {
      "image/png": "[encoded data removed]",
      "text/plain": [
       "<Figure size 432x288 with 1 Axes>"
      ]
     },
     "metadata": {
      "needs_background": "light"
     },
     "output_type": "display_data"
    }
   ],
   "source": [
    "sns.barplot(x = yr_, y = df_final.iloc[14])\n",
    "plt.xlabel('Year')\n",
    "plt.ylabel('PinoyTrap')"
   ]
  },
  {
   "cell_type": "code",
   "execution_count": 158,
   "metadata": {},
   "outputs": [
    {
     "data": {
      "text/plain": [
       "Text(0, 0.5, 'Papuri')"
      ]
     },
     "execution_count": 158,
     "metadata": {},
     "output_type": "execute_result"
    },
    {
     "data": {
      "image/png": "[encoded data removed]",
      "text/plain": [
       "<Figure size 432x288 with 1 Axes>"
      ]
     },
     "metadata": {
      "needs_background": "light"
     },
     "output_type": "display_data"
    }
   ],
   "source": [
    "sns.barplot(x = yr_, y = df_final.iloc[15])\n",
    "plt.xlabel('Year')\n",
    "plt.ylabel('Papuri')"
   ]
  },
  {
   "cell_type": "code",
   "execution_count": 159,
   "metadata": {},
   "outputs": [
    {
     "data": {
      "text/plain": [
       "Text(0, 0.5, 'ClassicOpm')"
      ]
     },
     "execution_count": 159,
     "metadata": {},
     "output_type": "execute_result"
    },
    {
     "data": {
      "image/png": "[encoded data removed]",
      "text/plain": [
       "<Figure size 432x288 with 1 Axes>"
      ]
     },
     "metadata": {
      "needs_background": "light"
     },
     "output_type": "display_data"
    }
   ],
   "source": [
    "sns.barplot(x = yr_, y = df_final.iloc[16])\n",
    "plt.xlabel('Year')\n",
    "plt.ylabel('ClassicOpm')"
   ]
  },
  {
   "cell_type": "code",
   "execution_count": 160,
   "metadata": {},
   "outputs": [
    {
     "data": {
      "text/plain": [
       "Text(0, 0.5, 'PinoyPopPunk')"
      ]
     },
     "execution_count": 160,
     "metadata": {},
     "output_type": "execute_result"
    },
    {
     "data": {
      "image/png": "[encoded data removed]",
      "text/plain": [
       "<Figure size 432x288 with 1 Axes>"
      ]
     },
     "metadata": {
      "needs_background": "light"
     },
     "output_type": "display_data"
    }
   ],
   "source": [
    "sns.barplot(x = yr_, y = df_final.iloc[17])\n",
    "plt.xlabel('Year')\n",
    "plt.ylabel('PinoyPopPunk')"
   ]
  },
  {
   "cell_type": "code",
   "execution_count": 161,
   "metadata": {},
   "outputs": [
    {
     "data": {
      "text/plain": [
       "Text(0, 0.5, 'PostTeenPop')"
      ]
     },
     "execution_count": 161,
     "metadata": {},
     "output_type": "execute_result"
    },
    {
     "data": {
      "image/png": "[encoded data removed]",
      "text/plain": [
       "<Figure size 432x288 with 1 Axes>"
      ]
     },
     "metadata": {
      "needs_background": "light"
     },
     "output_type": "display_data"
    }
   ],
   "source": [
    "sns.barplot(x = yr_, y = df_final.iloc[18])\n",
    "plt.xlabel('Year')\n",
    "plt.ylabel('PostTeenPop')"
   ]
  },
  {
   "cell_type": "code",
   "execution_count": 162,
   "metadata": {},
   "outputs": [
    {
     "data": {
      "text/plain": [
       "Text(0, 0.5, 'AcousticOpm')"
      ]
     },
     "execution_count": 162,
     "metadata": {},
     "output_type": "execute_result"
    },
    {
     "data": {
      "image/png": "[encoded data removed]",
      "text/plain": [
       "<Figure size 432x288 with 1 Axes>"
      ]
     },
     "metadata": {
      "needs_background": "light"
     },
     "output_type": "display_data"
    }
   ],
   "source": [
    "sns.barplot(x = yr_, y = df_final.iloc[19])\n",
    "plt.xlabel('Year')\n",
    "plt.ylabel('AcousticOpm')"
   ]
  },
  {
   "cell_type": "code",
   "execution_count": 163,
   "metadata": {},
   "outputs": [
    {
     "data": {
      "text/plain": [
       "Text(0, 0.5, 'PinoyAlternativeRap')"
      ]
     },
     "execution_count": 163,
     "metadata": {},
     "output_type": "execute_result"
    },
    {
     "data": {
      "image/png": "[encoded data removed]",
      "text/plain": [
       "<Figure size 432x288 with 1 Axes>"
      ]
     },
     "metadata": {
      "needs_background": "light"
     },
     "output_type": "display_data"
    }
   ],
   "source": [
    "sns.barplot(x = yr_, y = df_final.iloc[20])\n",
    "plt.xlabel('Year')\n",
    "plt.ylabel('PinoyAlternativeRap')"
   ]
  },
  {
   "cell_type": "code",
   "execution_count": 164,
   "metadata": {},
   "outputs": [
    {
     "data": {
      "text/plain": [
       "Text(0, 0.5, 'PinoySinger SongWriter')"
      ]
     },
     "execution_count": 164,
     "metadata": {},
     "output_type": "execute_result"
    },
    {
     "data": {
      "image/png": "[encoded data removed]",
      "text/plain": [
       "<Figure size 432x288 with 1 Axes>"
      ]
     },
     "metadata": {
      "needs_background": "light"
     },
     "output_type": "display_data"
    }
   ],
   "source": [
    "sns.barplot(x = yr_, y = df_final.iloc[21])\n",
    "plt.xlabel('Year')\n",
    "plt.ylabel('PinoySinger SongWriter')"
   ]
  },
  {
   "cell_type": "code",
   "execution_count": 165,
   "metadata": {},
   "outputs": [
    {
     "data": {
      "text/plain": [
       "Text(0, 0.5, 'PinoyPraise')"
      ]
     },
     "execution_count": 165,
     "metadata": {},
     "output_type": "execute_result"
    },
    {
     "data": {
      "image/png": "[encoded data removed]",
      "text/plain": [
       "<Figure size 432x288 with 1 Axes>"
      ]
     },
     "metadata": {
      "needs_background": "light"
     },
     "output_type": "display_data"
    }
   ],
   "source": [
    "sns.barplot(x = yr_, y = df_final.iloc[22])\n",
    "plt.xlabel('Year')\n",
    "plt.ylabel('PinoyPraise')"
   ]
  },
  {
   "cell_type": "code",
   "execution_count": 166,
   "metadata": {},
   "outputs": [
    {
     "data": {
      "text/plain": [
       "Text(0, 0.5, 'SoftRock')"
      ]
     },
     "execution_count": 166,
     "metadata": {},
     "output_type": "execute_result"
    },
    {
     "data": {
      "image/png": "[encoded data removed]",
      "text/plain": [
       "<Figure size 432x288 with 1 Axes>"
      ]
     },
     "metadata": {
      "needs_background": "light"
     },
     "output_type": "display_data"
    }
   ],
   "source": [
    "sns.barplot(x = yr_, y = df_final.iloc[23])\n",
    "plt.xlabel('Year')\n",
    "plt.ylabel('SoftRock')"
   ]
  },
  {
   "cell_type": "code",
   "execution_count": 167,
   "metadata": {},
   "outputs": [
    {
     "data": {
      "text/plain": [
       "Text(0, 0.5, 'ManilaSound')"
      ]
     },
     "execution_count": 167,
     "metadata": {},
     "output_type": "execute_result"
    },
    {
     "data": {
      "image/png": "[encoded data removed]",
      "text/plain": [
       "<Figure size 432x288 with 1 Axes>"
      ]
     },
     "metadata": {
      "needs_background": "light"
     },
     "output_type": "display_data"
    }
   ],
   "source": [
    "sns.barplot(x = yr_, y = df_final.iloc[24])\n",
    "plt.xlabel('Year')\n",
    "plt.ylabel('ManilaSound')"
   ]
  },
  {
   "cell_type": "code",
   "execution_count": 168,
   "metadata": {},
   "outputs": [
    {
     "data": {
      "text/plain": [
       "Text(0, 0.5, 'PinoyMetal')"
      ]
     },
     "execution_count": 168,
     "metadata": {},
     "output_type": "execute_result"
    },
    {
     "data": {
      "image/png": "[encoded data removed]",
      "text/plain": [
       "<Figure size 432x288 with 1 Axes>"
      ]
     },
     "metadata": {
      "needs_background": "light"
     },
     "output_type": "display_data"
    }
   ],
   "source": [
    "sns.barplot(x = yr_, y = df_final.iloc[25])\n",
    "plt.xlabel('Year')\n",
    "plt.ylabel('PinoyMetal')"
   ]
  },
  {
   "cell_type": "code",
   "execution_count": null,
   "metadata": {},
   "outputs": [],
   "source": []
  },
  {
   "cell_type": "code",
   "execution_count": null,
   "metadata": {},
   "outputs": [],
   "source": []
  },
  {
   "cell_type": "code",
   "execution_count": null,
   "metadata": {},
   "outputs": [],
   "source": []
  },
  {
   "cell_type": "code",
   "execution_count": null,
   "metadata": {},
   "outputs": [],
   "source": []
  },
  {
   "cell_type": "code",
   "execution_count": null,
   "metadata": {},
   "outputs": [],
   "source": []
  },
  {
   "cell_type": "code",
   "execution_count": null,
   "metadata": {},
   "outputs": [],
   "source": []
  }
 ],
 "metadata": {
  "kernelspec": {
   "display_name": "Python 3",
   "language": "python",
   "name": "python3"
  },
  "language_info": {
   "codemirror_mode": {
    "name": "ipython",
    "version": 3
   },
   "file_extension": ".py",
   "mimetype": "text/x-python",
   "name": "python",
   "nbconvert_exporter": "python",
   "pygments_lexer": "ipython3",
   "version": "3.8.5"
  }
 },
 "nbformat": 4,
 "nbformat_minor": 4
}
